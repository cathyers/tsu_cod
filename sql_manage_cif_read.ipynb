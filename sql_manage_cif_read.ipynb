{
 "cells": [
  {
   "cell_type": "markdown",
   "metadata": {},
   "source": [
    "# This code is an example of geting all COD# from sql and read the corresponding information from the cif files"
   ]
  },
  {
   "cell_type": "markdown",
   "metadata": {},
   "source": [
    "### Ge Liu, CS Department, Tennessee State University.   Jan.2017"
   ]
  },
  {
   "cell_type": "markdown",
   "metadata": {},
   "source": [
    "import packages"
   ]
  },
  {
   "cell_type": "code",
   "execution_count": 4,
   "metadata": {
    "collapsed": false
   },
   "outputs": [],
   "source": [
    "import MySQLdb\n",
    "import os\n",
    "from CifFile import CifFile"
   ]
  },
  {
   "cell_type": "markdown",
   "metadata": {},
   "source": [
    "set cif directory, where you svn all files using      svn co svn://www.crystallography.net/cod"
   ]
  },
  {
   "cell_type": "code",
   "execution_count": 5,
   "metadata": {
    "collapsed": false
   },
   "outputs": [],
   "source": [
    "cif_dir = '/fs4/masi/huoy1/COD/cod/cif'\n",
    "db = MySQLdb.connect(\n",
    "    host='www.crystallography.net',\n",
    "    port = 3306,\n",
    "    user='cod_reader',\n",
    "    passwd='',\n",
    "    db='cod',\n",
    "    )"
   ]
  },
  {
   "cell_type": "markdown",
   "metadata": {},
   "source": [
    "read all COD#s from the sql database"
   ]
  },
  {
   "cell_type": "code",
   "execution_count": 6,
   "metadata": {
    "collapsed": false
   },
   "outputs": [],
   "source": [
    "cursor = db.cursor()\n",
    "sql = \"select file from data\"\n",
    "cursor.execute(sql)\n",
    "allFiles = cursor.fetchall()"
   ]
  },
  {
   "cell_type": "code",
   "execution_count": null,
   "metadata": {
    "collapsed": false
   },
   "outputs": [],
   "source": [
    "allFiles[0][0]"
   ]
  },
  {
   "cell_type": "markdown",
   "metadata": {},
   "source": [
    "# (1) We can read all information for any structure"
   ]
  },
  {
   "cell_type": "markdown",
   "metadata": {},
   "source": [
    "show all tables in sql"
   ]
  },
  {
   "cell_type": "code",
   "execution_count": 7,
   "metadata": {
    "collapsed": false
   },
   "outputs": [],
   "source": [
    "sql = \"show tables\"\n",
    "cursor.execute(sql)\n",
    "tables = cursor.fetchall()"
   ]
  },
  {
   "cell_type": "code",
   "execution_count": 8,
   "metadata": {
    "collapsed": false
   },
   "outputs": [
    {
     "data": {
      "text/plain": [
       "(('amcsd_x_cod',),\n",
       " ('chemspider_x_cod',),\n",
       " ('cod_amcsd',),\n",
       " ('data',),\n",
       " ('databases',),\n",
       " ('dois',),\n",
       " ('drugbank_x_cod',),\n",
       " ('fingerprints',),\n",
       " ('jaltnames',),\n",
       " ('journals',),\n",
       " ('jsequences',),\n",
       " ('messages',),\n",
       " ('mpod_x_cod',),\n",
       " ('news',),\n",
       " ('numbers',),\n",
       " ('programs',),\n",
       " ('pubchem_x_cod',),\n",
       " ('publishers',),\n",
       " ('rdf_relations',),\n",
       " ('smiles',),\n",
       " ('spacegroups',),\n",
       " ('successors',),\n",
       " ('validation',),\n",
       " ('wikipedia_x_cod',))"
      ]
     },
     "execution_count": 8,
     "metadata": {},
     "output_type": "execute_result"
    }
   ],
   "source": [
    "tables"
   ]
  },
  {
   "cell_type": "markdown",
   "metadata": {},
   "source": [
    "the \"data\" sql table contains the general information for any crystal"
   ]
  },
  {
   "cell_type": "code",
   "execution_count": 9,
   "metadata": {
    "collapsed": false
   },
   "outputs": [
    {
     "name": "stdout",
     "output_type": "stream",
     "text": [
      "(('file', 'mediumint(7) unsigned', 'NO', 'PRI', '0', ''), ('a', 'double unsigned', 'YES', 'MUL', None, ''), ('siga', 'float unsigned', 'YES', '', None, ''), ('b', 'double unsigned', 'YES', 'MUL', None, ''), ('sigb', 'float unsigned', 'YES', '', None, ''), ('c', 'double unsigned', 'YES', 'MUL', None, ''), ('sigc', 'float unsigned', 'YES', '', None, ''), ('alpha', 'float unsigned', 'YES', 'MUL', None, ''), ('sigalpha', 'float unsigned', 'YES', '', None, ''), ('beta', 'float unsigned', 'YES', 'MUL', None, ''), ('sigbeta', 'float unsigned', 'YES', '', None, ''), ('gamma', 'float unsigned', 'YES', 'MUL', None, ''), ('siggamma', 'float unsigned', 'YES', '', None, ''), ('vol', 'float unsigned', 'YES', 'MUL', None, ''), ('sigvol', 'float unsigned', 'YES', '', None, ''), ('celltemp', 'float unsigned', 'YES', '', None, ''), ('sigcelltemp', 'float unsigned', 'YES', '', None, ''), ('diffrtemp', 'float unsigned', 'YES', '', None, ''), ('sigdiffrtemp', 'float unsigned', 'YES', '', None, ''), ('cellpressure', 'float unsigned', 'YES', '', None, ''), ('sigcellpressure', 'float unsigned', 'YES', '', None, ''), ('diffrpressure', 'float unsigned', 'YES', '', None, ''), ('sigdiffrpressure', 'float unsigned', 'YES', '', None, ''), ('thermalhist', 'varchar(255)', 'YES', '', None, ''), ('pressurehist', 'varchar(255)', 'YES', '', None, ''), ('nel', 'varchar(4)', 'YES', 'MUL', None, ''), ('sg', 'varchar(32)', 'YES', 'MUL', None, ''), ('sgHall', 'varchar(64)', 'YES', 'MUL', None, ''), ('commonname', 'varchar(1024)', 'YES', 'MUL', None, ''), ('chemname', 'varchar(2048)', 'YES', 'MUL', None, ''), ('mineral', 'varchar(255)', 'YES', 'MUL', None, ''), ('formula', 'varchar(255)', 'YES', 'MUL', None, ''), ('calcformula', 'varchar(255)', 'YES', 'MUL', None, ''), ('Z', 'smallint(5) unsigned', 'YES', 'MUL', None, ''), ('Zprime', 'float unsigned', 'YES', 'MUL', None, ''), ('acce_code', 'char(6)', 'YES', 'MUL', None, ''), ('authors', 'text', 'YES', '', None, ''), ('title', 'text', 'YES', '', None, ''), ('journal', 'varchar(255)', 'YES', 'MUL', None, ''), ('year', 'smallint(4) unsigned', 'YES', '', None, ''), ('volume', 'smallint(5) unsigned', 'YES', '', None, ''), ('issue', 'varchar(10)', 'YES', '', None, ''), ('firstpage', 'varchar(20)', 'YES', '', None, ''), ('lastpage', 'varchar(20)', 'YES', '', None, ''), ('doi', 'varchar(127)', 'YES', 'MUL', None, ''), ('method', \"enum('single crystal','powder diffraction','theoretical')\", 'YES', 'MUL', None, ''), ('radiation', 'varchar(32)', 'YES', '', None, ''), ('wavelength', 'float unsigned', 'YES', '', None, ''), ('radType', 'varchar(80)', 'YES', '', None, ''), ('radSymbol', 'varchar(20)', 'YES', '', None, ''), ('Rall', 'float unsigned', 'YES', '', None, ''), ('Robs', 'float unsigned', 'YES', '', None, ''), ('Rref', 'float unsigned', 'YES', '', None, ''), ('wRall', 'float unsigned', 'YES', '', None, ''), ('wRobs', 'float unsigned', 'YES', '', None, ''), ('wRref', 'float unsigned', 'YES', '', None, ''), ('RFsqd', 'float unsigned', 'YES', '', None, ''), ('RI', 'float unsigned', 'YES', '', None, ''), ('gofall', 'float', 'YES', '', None, ''), ('gofobs', 'float', 'YES', '', None, ''), ('gofgt', 'float', 'YES', '', None, ''), ('duplicateof', 'mediumint(7) unsigned', 'YES', '', None, ''), ('optimal', 'mediumint(7) unsigned', 'YES', '', None, ''), ('status', \"enum('warnings','errors','retracted')\", 'YES', '', None, ''), ('flags', \"set('has coordinates','has disorder','has Fobs')\", 'YES', '', None, ''), ('text', 'text', 'NO', 'MUL', None, ''), ('svnrevision', 'int(11)', 'YES', 'MUL', None, ''), ('date', 'date', 'YES', 'MUL', None, ''), ('time', 'time', 'YES', 'MUL', None, ''), ('onhold', 'date', 'YES', '', None, '')) \n",
      "\n"
     ]
    }
   ],
   "source": [
    "sql = '%s %s' % ('desc ',tables[3][0])\n",
    "cursor.execute(sql)\n",
    "results = cursor.fetchall()\n",
    "print \"%s \\n\" % (results,)"
   ]
  },
  {
   "cell_type": "code",
   "execution_count": 11,
   "metadata": {
    "collapsed": false
   },
   "outputs": [],
   "source": [
    "sql = \"select * from %s where file = '%s'\" % (tables[3][0],allFiles[0][0])\n",
    "cursor.execute(sql)    \n",
    "resultsNum = cursor.fetchone()"
   ]
  },
  {
   "cell_type": "code",
   "execution_count": 12,
   "metadata": {
    "collapsed": false
   },
   "outputs": [
    {
     "data": {
      "text/plain": [
       "(1000000,\n",
       " 7.8783,\n",
       " 0.0002,\n",
       " 10.4689,\n",
       " 0.0001,\n",
       " 16.068,\n",
       " 0.0004,\n",
       " 90.0,\n",
       " None,\n",
       " 95.147,\n",
       " 0.001,\n",
       " 90.0,\n",
       " None,\n",
       " 1319.9,\n",
       " 0.05,\n",
       " 296.0,\n",
       " 2.0,\n",
       " 296.0,\n",
       " 2.0,\n",
       " None,\n",
       " None,\n",
       " None,\n",
       " None,\n",
       " None,\n",
       " None,\n",
       " '6',\n",
       " 'P 1 21/n 1',\n",
       " '-P 2yn',\n",
       " None,\n",
       " None,\n",
       " None,\n",
       " '- C5 H17 Al N2 O8 P2 -',\n",
       " '- C5 H17 Al N2 O8 P2 -',\n",
       " 4,\n",
       " 1.0,\n",
       " 'GS1096',\n",
       " 'Phan Thanh, S.; Marrot, J.; Renaudin, J.; Maisonneuve, V.',\n",
       " '[H~3~N(CH~2~)~5~NH~3~].AlP~2~O~8~H, a one-dimensional aluminophosphate',\n",
       " 'Acta Crystallographica, Section C',\n",
       " 2000,\n",
       " 56,\n",
       " '9',\n",
       " '1073',\n",
       " '1074',\n",
       " '10.1107/S0108270100008532',\n",
       " None,\n",
       " None,\n",
       " 0.71073,\n",
       " 'MoK?',\n",
       " None,\n",
       " 0.1073,\n",
       " 0.0584,\n",
       " None,\n",
       " 0.2069,\n",
       " None,\n",
       " 0.1362,\n",
       " None,\n",
       " None,\n",
       " 1.055,\n",
       " 1.08,\n",
       " None,\n",
       " 2011331,\n",
       " None,\n",
       " None,\n",
       " 'has coordinates',\n",
       " 'Phan Thanh, S.; Marrot, J.; Renaudin, J.; Maisonneuve, V.\\n[H~3~N(CH~2~)~5~NH~3~].AlP~2~O~8~H, a one-dimensional aluminophosphate\\nActa Crystallographica, Section C\\n56(9)\\n(2000)\\n1073-1074',\n",
       " 176729L,\n",
       " datetime.date(2016, 2, 18),\n",
       " datetime.timedelta(0, 64262),\n",
       " None)"
      ]
     },
     "execution_count": 12,
     "metadata": {},
     "output_type": "execute_result"
    }
   ],
   "source": [
    "resultsNum"
   ]
  },
  {
   "cell_type": "markdown",
   "metadata": {},
   "source": [
    "# (2) We can get useful information from cif efficiently"
   ]
  },
  {
   "cell_type": "markdown",
   "metadata": {},
   "source": [
    "Just show first two sturctures as example"
   ]
  },
  {
   "cell_type": "code",
   "execution_count": 13,
   "metadata": {
    "collapsed": false
   },
   "outputs": [],
   "source": [
    "allFiles = allFiles[0:1]"
   ]
  },
  {
   "cell_type": "code",
   "execution_count": 14,
   "metadata": {
    "collapsed": false
   },
   "outputs": [
    {
     "data": {
      "text/plain": [
       "((1000000,),)"
      ]
     },
     "execution_count": 14,
     "metadata": {},
     "output_type": "execute_result"
    }
   ],
   "source": [
    "allFiles"
   ]
  },
  {
   "cell_type": "code",
   "execution_count": 15,
   "metadata": {
    "collapsed": false
   },
   "outputs": [
    {
     "name": "stdout",
     "output_type": "stream",
     "text": [
      "monoclinic\n",
      "-P 2yn\n",
      "P 1 21/n 1\n",
      "[u'P1', u'P2', u'Al1', u'O1', u'O2', u'H2', u'O3', u'O4', u'O5', u'O6', u'O7', u'O8', u'N1', u'H1A', u'H1B', u'H1C', u'C1', u'H1D', u'H1E', u'C2', u'H2A', u'H2B', u'C3', u'H3A', u'H3B', u'C4', u'H4A', u'H4B', u'C5', u'H5A', u'H5B', u'N2', u'H2C', u'H2D', u'H2E']\n",
      "[u'.55909(13)', u'.09646(13)', u'.24723(13)', u'.1684(4)', u'.6564(4)', u'.7123', u'.0882(4)', u'.1982(4)', u'.4005(4)', u'.5116(4)', u'.1067(5)', u'.6701(4)', u'.5653(6)', u'.4934', u'.5704', u'.5288', u'.7372(9)', u'.7840', u'.7258', u'.8618(10)', u'.8225', u'.9709', u'.8903(13)', u'.7912', u'.9855', u'.9232(15)', u'.8502', u'.8917', u'1.1025(11)', u'1.1363', u'1.1062', u'1.2290(5)', u'1.3301', u'1.2357', u'1.1984']\n",
      "[u'.78402(9)', u'1.05563(11)', u'.95928(11)', u'.9724(3)', u'.7078(3)', u'.7571', u'.9116(3)', u'1.1793(3)', u'.8408(3)', u'.6993(3)', u'.9814(4)', u'.8956(3)', u'.4525(4)', u'.4053', u'.5309', u'.4565', u'.3936(7)', u'.4038', u'.3028', u'.4488(8)', u'.4271', u'.4071', u'.5913(9)', u'.6290', u'.6077', u'.6711(14)', u'.6411', u'.7587', u'.6688(10)', u'.5802', u'.7081', u'.7318(4)', u'.7296', u'.6916', u'.8127']\n",
      "[u'.02396(7)', u'.13485(6)', u'-.02995(7)', u'.0667(2)', u'-.0386(2)', u'-.0649', u'-.1048(2)', u'.1459(2)', u'-.0252(2)', u'.0927(2)', u'.2149(2)', u'.0585(2)', u'.1464(2)', u'.1133', u'.1254', u'.1972', u'.1518(5)', u'.0984', u'.1618', u'.2194(5)', u'.2732', u'.2162', u'.2175(5)', u'.2395', u'.2587', u'.1428(8)', u'.0950', u'.1534', u'.1213(5)', u'.1162', u'.0669', u'.1793(3)', u'.1586', u'.2283', u'.1863']\n"
     ]
    }
   ],
   "source": [
    "for i in range(0,len(allFiles)):\n",
    "    fileNum = str(allFiles[i][0])\n",
    "    fileName = \"%s.cif\" % fileNum\n",
    "    \n",
    "    dir_level1 = fileNum[0]\n",
    "    dir_level2 = fileNum[1:3]\n",
    "    dir_level3 = fileNum[3:5]\n",
    "    \n",
    "    cif_full_dir = os.path.join(cif_dir,dir_level1,dir_level2,dir_level3)\n",
    "    cif_full_file = os.path.join(cif_full_dir,fileName)\n",
    "    \n",
    "    if (not os.path.exists(cif_full_file)):\n",
    "        raise IOError(\"CIF file '%s' was not found!\" % (fileName))\n",
    "    else:\n",
    "        cf = CifFile(cif_full_file)\n",
    "        cb = cf[cf.keys()[0]]\n",
    "        print cb['_symmetry_cell_setting']\n",
    "        print cb['_symmetry_space_group_name_Hall']\n",
    "        print cb['_symmetry_space_group_name_H-M']\n",
    "        print cb['_atom_site_label']\n",
    "        print cb['_atom_site_fract_x']\n",
    "        print cb['_atom_site_fract_y']\n",
    "        print cb['_atom_site_fract_z']   "
   ]
  },
  {
   "cell_type": "code",
   "execution_count": null,
   "metadata": {
    "collapsed": true
   },
   "outputs": [],
   "source": []
  }
 ],
 "metadata": {
  "anaconda-cloud": {},
  "kernelspec": {
   "display_name": "Python [conda env:tf12]",
   "language": "python",
   "name": "conda-env-tf12-py"
  }
 },
 "nbformat": 4,
 "nbformat_minor": 1
}
